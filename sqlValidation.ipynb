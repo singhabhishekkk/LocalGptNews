{
 "cells": [
  {
   "cell_type": "code",
   "execution_count": 1,
   "metadata": {},
   "outputs": [],
   "source": [
    "def prime(fn):\n",
    "    def wrapper(*args, **kwargs):\n",
    "        v = fn(*args, **kwargs)\n",
    "        v.send(None)\n",
    "        return v\n",
    "    return wrapper"
   ]
  },
  {
   "cell_type": "code",
   "execution_count": 2,
   "metadata": {},
   "outputs": [],
   "source": [
    "class SQLValidatorFSM:\n",
    "    def __init__(self):\n",
    "        self.init = self._create_init()\n",
    "        self.select_stmt = self._create_select_stmt()\n",
    "        self.all_cols = self._create_all_cols()\n",
    "        self.explicit_cols = self._create_explicit_cols()\n",
    "        self.from_clause = self._create_from_clause()\n",
    "        self.more_cols = self._create_more_cols()\n",
    "        self.tablename = self._create_tablename()\n",
    "        self.valid_sql = self._create_valid_sql()\n",
    "        \n",
    "        self.current_state = self.init\n",
    "        self.stopped = False\n",
    "        \n",
    "    def send(self, token):\n",
    "        try:\n",
    "            self.current_state.send(token)\n",
    "        except StopIteration:\n",
    "            self.stopped = True\n",
    "        \n",
    "    def is_valid(self):\n",
    "        if self.stopped:\n",
    "            return False\n",
    "        return self.current_state == self.valid_sql\n",
    "\n",
    "    @prime\n",
    "    def _create_init(self):\n",
    "        while True:\n",
    "            token = yield\n",
    "            if token == \"select\":\n",
    "                self.current_state = self.select_stmt\n",
    "            else:\n",
    "                break\n",
    "\n",
    "    @prime\n",
    "    def _create_select_stmt(self):\n",
    "        while True:\n",
    "            token = yield\n",
    "            if token == \"*\":\n",
    "                self.current_state = self.all_cols\n",
    "            else:\n",
    "                self.current_state = self.explicit_cols\n",
    "          \n",
    "    @prime\n",
    "    def _create_all_cols(self):\n",
    "        while True:\n",
    "            token = yield\n",
    "            if token == 'from':\n",
    "                self.current_state = self.from_clause\n",
    "            else:\n",
    "                break\n",
    "\n",
    "    @prime\n",
    "    def _create_explicit_cols(self):\n",
    "        while True:\n",
    "            token = yield\n",
    "            if token == 'from':\n",
    "                self.current_state = self.from_clause\n",
    "            elif token == ',':\n",
    "                self.current_state = self.more_cols\n",
    "            else:\n",
    "                break\n",
    "           \n",
    "    @prime\n",
    "    def _create_from_clause(self):\n",
    "        while True:\n",
    "            token = yield\n",
    "            if token.isalnum():\n",
    "                self.current_state = self.tablename\n",
    "            else:\n",
    "                break\n",
    "           \n",
    "    @prime\n",
    "    def _create_more_cols(self):\n",
    "        while True:\n",
    "            token = yield\n",
    "            if token.isalnum():\n",
    "                self.current_state = self.explicit_cols\n",
    "            else:\n",
    "                break\n",
    "             \n",
    "    @prime\n",
    "    def _create_tablename(self):\n",
    "        while True:\n",
    "            token = yield\n",
    "            if token == \";\":\n",
    "                self.current_state = self.valid_sql\n",
    "            else:\n",
    "                break\n",
    "            \n",
    "    @prime\n",
    "    def _create_valid_sql(self):\n",
    "        while True:\n",
    "            token = yield\n",
    "            if token == \";\":\n",
    "                self.current_state = self.valid_sql\n",
    "            else:\n",
    "                break"
   ]
  },
  {
   "cell_type": "code",
   "execution_count": 3,
   "metadata": {},
   "outputs": [],
   "source": [
    "def is_sql_valid(query):\n",
    "    validator = SQLValidatorFSM()\n",
    "    for token in query.split():\n",
    "        validator.send(token)\n",
    "    return validator.is_valid()"
   ]
  },
  {
   "cell_type": "code",
   "execution_count": 4,
   "metadata": {},
   "outputs": [
    {
     "data": {
      "text/plain": [
       "True"
      ]
     },
     "execution_count": 4,
     "metadata": {},
     "output_type": "execute_result"
    }
   ],
   "source": [
    "is_sql_valid(\"select * from users ;\")"
   ]
  },
  {
   "cell_type": "code",
   "execution_count": 5,
   "metadata": {},
   "outputs": [
    {
     "data": {
      "text/plain": [
       "False"
      ]
     },
     "execution_count": 5,
     "metadata": {},
     "output_type": "execute_result"
    }
   ],
   "source": [
    "is_sql_valid(\"select id , name from users users ;\")"
   ]
  },
  {
   "cell_type": "code",
   "execution_count": null,
   "metadata": {},
   "outputs": [],
   "source": []
  }
 ],
 "metadata": {
  "kernelspec": {
   "display_name": "vannaenv",
   "language": "python",
   "name": "python3"
  },
  "language_info": {
   "codemirror_mode": {
    "name": "ipython",
    "version": 3
   },
   "file_extension": ".py",
   "mimetype": "text/x-python",
   "name": "python",
   "nbconvert_exporter": "python",
   "pygments_lexer": "ipython3",
   "version": "3.12.4"
  }
 },
 "nbformat": 4,
 "nbformat_minor": 2
}
